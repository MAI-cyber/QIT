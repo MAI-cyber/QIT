{
 "cells": [
  {
   "cell_type": "markdown",
   "id": "c62e8b16",
   "metadata": {},
   "source": [
    "Imports"
   ]
  },
  {
   "cell_type": "code",
   "execution_count": 1,
   "id": "39891134",
   "metadata": {},
   "outputs": [],
   "source": [
    "# ! pip install numpy \n",
    "# ! pip install qiskit\n",
    "# ! pip install matplotlib"
   ]
  },
  {
   "cell_type": "code",
   "execution_count": 2,
   "id": "7d17a367",
   "metadata": {},
   "outputs": [],
   "source": [
    "from qiskit import QuantumCircuit, Aer ,BasicAer, execute, transpile\n",
    "from qiskit.visualization import plot_bloch_multivector, plot_histogram, plot_state_qsphere\n",
    "from qiskit.quantum_info import Statevector, partial_trace, state_fidelity\n",
    "import matplotlib.pyplot as plt\n",
    "import numpy as np\n",
    "from pprint import pprint\n",
    "from qiskit.providers.aer.noise import NoiseModel, amplitude_damping_error"
   ]
  },
  {
   "cell_type": "markdown",
   "id": "40669461",
   "metadata": {},
   "source": [
    "Using the inital state |s> = |+> , which we want to teleport"
   ]
  },
  {
   "cell_type": "code",
   "execution_count": 3,
   "id": "fb42c504",
   "metadata": {},
   "outputs": [],
   "source": [
    "alice_state = Statevector.from_label(\"+\")"
   ]
  },
  {
   "cell_type": "markdown",
   "id": "9c42b977",
   "metadata": {},
   "source": [
    "The circuit for teleportation"
   ]
  },
  {
   "cell_type": "code",
   "execution_count": 4,
   "id": "faead58f",
   "metadata": {},
   "outputs": [
    {
     "data": {
      "image/png": "[encoded data removed]",
      "text/plain": [
       "<Figure size 808.997x264.88 with 1 Axes>"
      ]
     },
     "execution_count": 4,
     "metadata": {},
     "output_type": "execute_result"
    }
   ],
   "source": [
    "teleportation_circuit = QuantumCircuit(3, 1)\n",
    "\n",
    "# Making the state alice wants to communicate\n",
    "teleportation_circuit.h(0)\n",
    "\n",
    "teleportation_circuit.barrier()\n",
    "\n",
    "# Entanger circuit\n",
    "teleportation_circuit.h(1)\n",
    "teleportation_circuit.cx(1,2)\n",
    "\n",
    "teleportation_circuit.barrier()\n",
    "\n",
    "# Dis-Entanger circuit\n",
    "teleportation_circuit.cx(0,1)\n",
    "teleportation_circuit.h(0)\n",
    "\n",
    "teleportation_circuit.barrier()\n",
    "\n",
    "# Controlled not gates based on Alice's Results\n",
    "teleportation_circuit.cx(1,2)\n",
    "teleportation_circuit.cz(0,2)\n",
    "\n",
    "teleportation_circuit.barrier()\n",
    "\n",
    "#teleportation_circuit.measure(2,0)\n",
    "teleportation_circuit.snapshot(\"final\", snapshot_type='statevector', qubits=[2])\n",
    "\n",
    "teleportation_circuit.draw('mpl')"
   ]
  },
  {
   "cell_type": "markdown",
   "id": "1c736e2e",
   "metadata": {},
   "source": [
    "Making a function for noise model"
   ]
  },
  {
   "cell_type": "code",
   "execution_count": 5,
   "id": "5a3b4292",
   "metadata": {},
   "outputs": [],
   "source": [
    "from qiskit.providers.aer.noise import NoiseModel, noise_model\n",
    "from qiskit.providers.aer.noise.errors import pauli_error\n",
    "\n",
    "def noisy_simulator(p):\n",
    "    \n",
    "    noise_model = NoiseModel()\n",
    "    # Using the Bit-flip noise channel\n",
    "    error_meas = pauli_error([('X',p), ('I', 1 - p)])    \n",
    "    noise_model.add_all_qubit_quantum_error(error_meas, \"measure\")\n",
    "    return noise_model"
   ]
  },
  {
   "cell_type": "code",
   "execution_count": 6,
   "id": "fa35a8b8",
   "metadata": {},
   "outputs": [],
   "source": [
    "# Initlaizing the quantum simulator and decomposing the circuit interms of the basic gates\n",
    "simulator =Aer.get_backend('qasm_simulator')\n",
    "basis_gates = ['rz', 'sx', 'x', 'id' ,\"cx\"]\n",
    "quantum_circ = transpile(teleportation_circuit, basis_gates=basis_gates)"
   ]
  },
  {
   "cell_type": "code",
   "execution_count": 7,
   "id": "2c3cf757",
   "metadata": {},
   "outputs": [],
   "source": [
    "# Making list of noise (probability of failure) under whichwe want to teleport the state\n",
    "# Making a list of fidelity to store the accuracy of our teleportations\n",
    "p_noise = [0, 0.1, 0.2, 0.3, 0.4, 0.5, 0.6]\n",
    "fidelity = []\n",
    "\n",
    "for p in p_noise:\n",
    "    #Simualting the circuit for each value of noise \n",
    "    \n",
    "    noisy_results = execute(quantum_circ, backend=simulator, shots=10000, noise_model=noisy_simulator(p)).result()\n",
    "    \n",
    "    # get the state of of the circuit after teleportations circuit has been traversed\n",
    "    state  = noisy_results.data(0)['snapshots']['statevector']['final']\n",
    "    # encode this state as a statevector\n",
    "    state_ac = Statevector(state[0], dims=(2, 2, 2))\n",
    "    \n",
    "    # take a partial trace to get the reduced matric rho bob has\n",
    "    bob_state = partial_trace(state_ac, [0,1]).to_statevector()\n",
    "    \n",
    "    # find fidelity of state alice was to communicate and bob has recieved\n",
    "    fidelity.append(state_fidelity(alice_state, bob_state))"
   ]
  },
  {
   "cell_type": "code",
   "execution_count": 8,
   "id": "335611b7",
   "metadata": {},
   "outputs": [
    {
     "data": {
      "text/plain": [
       "Text(0.5, 0, 'Noise (p)')"
      ]
     },
     "execution_count": 8,
     "metadata": {},
     "output_type": "execute_result"
    },
    {
     "data": {
      "image/png": "[encoded data removed]",
      "text/plain": [
       "<Figure size 432x288 with 1 Axes>"
      ]
     },
     "metadata": {
      "needs_background": "light"
     },
     "output_type": "display_data"
    }
   ],
   "source": [
    "plt.plot(p_noise, fidelity, 'o-')\n",
    "plt.ylabel(\"Fidelity\")\n",
    "plt.xlabel(\"Noise (p)\")"
   ]
  },
  {
   "cell_type": "code",
   "execution_count": null,
   "id": "bf79a075",
   "metadata": {},
   "outputs": [],
   "source": []
  }
 ],
 "metadata": {
  "kernelspec": {
   "display_name": "Python 3 (ipykernel)",
   "language": "python",
   "name": "python3"
  },
  "language_info": {
   "codemirror_mode": {
    "name": "ipython",
    "version": 3
   },
   "file_extension": ".py",
   "mimetype": "text/x-python",
   "name": "python",
   "nbconvert_exporter": "python",
   "pygments_lexer": "ipython3",
   "version": "3.9.7"
  }
 },
 "nbformat": 4,
 "nbformat_minor": 5
}
