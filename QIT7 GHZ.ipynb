{
 "cells": [
  {
   "cell_type": "markdown",
   "id": "c62e8b16",
   "metadata": {},
   "source": [
    "Imports"
   ]
  },
  {
   "cell_type": "code",
   "execution_count": 1,
   "id": "39891134",
   "metadata": {},
   "outputs": [],
   "source": [
    "#! pip install numpy \n",
    "#! pip install qiskit\n",
    "#! pip install matplotlib"
   ]
  },
  {
   "cell_type": "code",
   "execution_count": 2,
   "id": "7d17a367",
   "metadata": {},
   "outputs": [],
   "source": [
    "from qiskit import QuantumCircuit, Aer ,BasicAer, execute\n",
    "from qiskit.visualization import plot_bloch_multivector, plot_histogram, plot_state_qsphere\n",
    "from qiskit.quantum_info import Statevector\n",
    "import matplotlib.pyplot as plt\n",
    "import numpy as np"
   ]
  },
  {
   "cell_type": "markdown",
   "id": "9c42b977",
   "metadata": {},
   "source": [
    "The circuit for GHZ Entanglement"
   ]
  },
  {
   "cell_type": "code",
   "execution_count": 3,
   "id": "faead58f",
   "metadata": {},
   "outputs": [
    {
     "data": {
      "image/png": "[encoded data removed]",
      "text/plain": [
       "<Figure size 267.197x204.68 with 1 Axes>"
      ]
     },
     "execution_count": 3,
     "metadata": {},
     "output_type": "execute_result"
    }
   ],
   "source": [
    "GHZ_circuit = QuantumCircuit(3)\n",
    "\n",
    "GHZ_circuit.h(0)\n",
    "GHZ_circuit.cx(0, 1)\n",
    "GHZ_circuit.cx(1, 2)\n",
    "\n",
    "GHZ_circuit.draw('mpl')"
   ]
  },
  {
   "cell_type": "markdown",
   "id": "1c736e2e",
   "metadata": {},
   "source": [
    "Measuring Bob's qubit in the Zeeman basis and comapring with the special state"
   ]
  },
  {
   "cell_type": "code",
   "execution_count": 4,
   "id": "5a3b4292",
   "metadata": {},
   "outputs": [
    {
     "name": "stdout",
     "output_type": "stream",
     "text": [
      "Matrix form of the GHZ entangler = \n",
      "[[ 0.70710678+0.j  0.70710678+0.j  0.        +0.j  0.        +0.j\n",
      "   0.        +0.j  0.        +0.j  0.        +0.j  0.        +0.j]\n",
      " [ 0.        +0.j  0.        +0.j  0.70710678+0.j -0.70710678+0.j\n",
      "   0.        +0.j  0.        +0.j  0.        +0.j  0.        +0.j]\n",
      " [ 0.        +0.j  0.        +0.j  0.        +0.j  0.        +0.j\n",
      "   0.        +0.j  0.        +0.j  0.70710678+0.j  0.70710678+0.j]\n",
      " [ 0.        +0.j  0.        +0.j  0.        +0.j  0.        +0.j\n",
      "   0.70710678+0.j -0.70710678+0.j  0.        +0.j  0.        +0.j]\n",
      " [ 0.        +0.j  0.        +0.j  0.        +0.j  0.        +0.j\n",
      "   0.70710678+0.j  0.70710678+0.j  0.        +0.j  0.        +0.j]\n",
      " [ 0.        +0.j  0.        +0.j  0.        +0.j  0.        +0.j\n",
      "   0.        +0.j  0.        +0.j  0.70710678+0.j -0.70710678+0.j]\n",
      " [ 0.        +0.j  0.        +0.j  0.70710678+0.j  0.70710678+0.j\n",
      "   0.        +0.j  0.        +0.j  0.        +0.j  0.        +0.j]\n",
      " [ 0.70710678+0.j -0.70710678+0.j  0.        +0.j  0.        +0.j\n",
      "   0.        +0.j  0.        +0.j  0.        +0.j  0.        +0.j]]\n"
     ]
    }
   ],
   "source": [
    "initial = [\"000\", \"001\", \"010\", \"011\", \"100\", \"101\", \"110\", \"111\"]\n",
    "\n",
    "initial_states = []\n",
    "\n",
    "for label in initial:\n",
    "    initial_states.append(Statevector.from_label(label))\n",
    "    \n",
    "#print(initial_states)\n",
    "\n",
    "evolved_states = []\n",
    "\n",
    "for state in initial_states:\n",
    "    evolved_states.append(state.evolve(GHZ_circuit))\n",
    "\n",
    "#print(evolved_states) \n",
    "\n",
    "matrix = np.zeros((2**3, 2**3), dtype = \"complex_\")\n",
    "\n",
    "for i in range(2**3):\n",
    "    for j in range(2**3):\n",
    "        matrix[i][j] = evolved_states[i][j]\n",
    "matrix  = matrix.T\n",
    "        \n",
    "print(\"Matrix form of the GHZ entangler = \")\n",
    "print(matrix)"
   ]
  },
  {
   "cell_type": "code",
   "execution_count": null,
   "id": "d9d4abbf",
   "metadata": {},
   "outputs": [],
   "source": []
  }
 ],
 "metadata": {
  "kernelspec": {
   "display_name": "Python 3 (ipykernel)",
   "language": "python",
   "name": "python3"
  },
  "language_info": {
   "codemirror_mode": {
    "name": "ipython",
    "version": 3
   },
   "file_extension": ".py",
   "mimetype": "text/x-python",
   "name": "python",
   "nbconvert_exporter": "python",
   "pygments_lexer": "ipython3",
   "version": "3.9.7"
  }
 },
 "nbformat": 4,
 "nbformat_minor": 5
}
